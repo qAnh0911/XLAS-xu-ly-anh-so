{
 "cells": [
  {
   "cell_type": "code",
   "execution_count": 1,
   "id": "f0d0f9c7-6e82-4ba5-b716-d37c5e764bbc",
   "metadata": {},
   "outputs": [],
   "source": [
    "# Gọi các thư viện \n",
    "#mở, tạo, xử lý, và lưu trữ ảnh - các phép toán trên ảnh, như cân bằng lược đồ xám, đảo ngược màu sắc, cắt xén\n",
    "from PIL import Image, ImageOps\n",
    "#tạo các biểu đồ và đồ thị.\n",
    "import matplotlib.pyplot as plt\n",
    "#cung cấp các widget tương tác để sử dụng trong Jupyter Notebooks, giúp bạn tạo giao diện \n",
    "from ipywidgets import interact, widgets\n",
    "#cung cấp các phương pháp để hiển thị các đối tượng (như ảnh, video, HTML) \n",
    "from IPython.display import display\n",
    "import io"
   ]
  },
  {
   "cell_type": "code",
   "execution_count": 2,
   "id": "ea1d3964",
   "metadata": {},
   "outputs": [],
   "source": [
    "# Biến toàn cục để lưu trữ ảnh\n",
    "current_image = None #khởi tạo là None, dùng để lưu trữ ảnh hiện tại.\n",
    "\n",
    "def open_image(file_path):#•\tMở ảnh từ file_path và gán vào biến toàn cục current_image.\n",
    "    global current_image #Hiển thị ảnh đã mở bằng cách gọi hàm display_image.\n",
    "    current_image = Image.open(file_path)\n",
    "    display_image(current_image)\n",
    "\n",
    "def save_image(file_path):#•\tLưu ảnh hiện tại current_image vào đường dẫn file_path \n",
    "    if current_image:\n",
    "        current_image.save(file_path)\n",
    "\n",
    "def zoom_image(scale):\n",
    "    if current_image:\n",
    "        width, height = current_image.size\n",
    "        new_size = (int(width * scale), int(height * scale))\n",
    "        resized_image = current_image.resize(new_size, Image.ANTIALIAS)\n",
    "        display_image(resized_image)\n",
    "\n",
    "def equalize_image():\n",
    "    if current_image:\n",
    "        equalized_image = ImageOps.equalize(current_image.convert('L'))\n",
    "        display_image(equalized_image)\n",
    "        \n",
    "def display_image(image):#•\tSử dụng matplotlib.pyplot để hiển thị ảnh.,\n",
    "    plt.imshow(image)\n",
    "    plt.axis('off')#•\tTắt trục tọa độ để tập trung vào ảnh.\n",
    "    plt.show()"
   ]
  },
  {
   "cell_type": "code",
   "execution_count": 3,
   "id": "d1b49443",
   "metadata": {},
   "outputs": [],
   "source": [
    "# Tạo các widget cho giao diện người dùng\n",
    "#Tạo một widget cho phép người dùng tải lên các tập tin ảnh\n",
    "file_upload = widgets.FileUpload(accept='image/*', multiple=False)\n",
    "file_upload.observe(lambda change: open_image(io.BytesIO(list(file_upload.value.values())[0]['content'])), names='value')\n",
    "#Tạo một nút bấm với mô tả \"Save Image\" để người dùng bấm vào khi muốn lưu ảnh.\n",
    "save_button = widgets.Button(description=\"Save Image\")\n",
    "#Tạo một textbox để người dùng nhập đường dẫn và tên tệp để lưu ảnh.\n",
    "save_path = widgets.Text(value='output.png', description='Save Path:')\n",
    "#Gán một hàm để xử lý sự kiện khi nút bấm được nhấn\n",
    "save_button.on_click(lambda b: save_image(save_path.value))\n",
    "zoom_slider = widgets.FloatSlider(value=1.0, min=0.1, max=3.0, step=0.1, description='Zoom:')\n",
    "#Gán một hàm để xử lý sự kiện khi giá trị của slider thay đổi. Trong trường hợp này, hàm zoom_image sẽ được gọi với giá trị mới của slider.\n",
    "zoom_slider.observe(lambda change: zoom_image(change['new']), names='value')\n",
    "\n"
   ]
  },
  {
   "cell_type": "code",
   "execution_count": 4,
   "id": "e93a96f2",
   "metadata": {},
   "outputs": [],
   "source": [
    "# Thêm nút cân bằng lược đồ xám\n",
    "#Tạo một nút bấm widget với mô tả \"Equalize Image\".\n",
    "equalize_button = widgets.Button(description=\"Equalize Image\")\n",
    "equalize_button.on_click(lambda b: equalize_image())\n"
   ]
  },
  {
   "cell_type": "code",
   "execution_count": 6,
   "id": "696ad768",
   "metadata": {},
   "outputs": [
    {
     "data": {
      "application/vnd.jupyter.widget-view+json": {
       "model_id": "9c2d741029ed4bd5a35f98a645b81312",
       "version_major": 2,
       "version_minor": 0
      },
      "text/plain": [
       "FileUpload(value={}, accept='image/*', description='Upload')"
      ]
     },
     "metadata": {},
     "output_type": "display_data"
    },
    {
     "data": {
      "application/vnd.jupyter.widget-view+json": {
       "model_id": "8a0562512e2f4fd78c287ec0edb45082",
       "version_major": 2,
       "version_minor": 0
      },
      "text/plain": [
       "Text(value='output.png', description='Save Path:')"
      ]
     },
     "metadata": {},
     "output_type": "display_data"
    },
    {
     "data": {
      "application/vnd.jupyter.widget-view+json": {
       "model_id": "8274f3026cb74e86bbe71368e7c45207",
       "version_major": 2,
       "version_minor": 0
      },
      "text/plain": [
       "Button(description='Save Image', style=ButtonStyle())"
      ]
     },
     "metadata": {},
     "output_type": "display_data"
    },
    {
     "data": {
      "application/vnd.jupyter.widget-view+json": {
       "model_id": "7eaae53a6778468faa1c8f696486bcca",
       "version_major": 2,
       "version_minor": 0
      },
      "text/plain": [
       "FloatSlider(value=1.0, description='Zoom:', max=3.0, min=0.1)"
      ]
     },
     "metadata": {},
     "output_type": "display_data"
    },
    {
     "data": {
      "application/vnd.jupyter.widget-view+json": {
       "model_id": "0382357ea5fe4bf280df14ae847c1173",
       "version_major": 2,
       "version_minor": 0
      },
      "text/plain": [
       "Button(description='Equalize Image', style=ButtonStyle())"
      ]
     },
     "metadata": {},
     "output_type": "display_data"
    }
   ],
   "source": [
    "# Hiển thị các widget\n",
    "display(file_upload, save_path, save_button, zoom_slider, equalize_button)"
   ]
  },
  {
   "cell_type": "code",
   "execution_count": null,
   "id": "a6b8729a-d5a9-4751-bffa-485f68d27fab",
   "metadata": {},
   "outputs": [],
   "source": []
  },
  {
   "cell_type": "code",
   "execution_count": null,
   "id": "a49fec8e",
   "metadata": {},
   "outputs": [],
   "source": []
  },
  {
   "cell_type": "code",
   "execution_count": null,
   "id": "ac26d6a6",
   "metadata": {},
   "outputs": [],
   "source": []
  },
  {
   "cell_type": "code",
   "execution_count": null,
   "id": "1eae20f0",
   "metadata": {},
   "outputs": [],
   "source": []
  },
  {
   "cell_type": "code",
   "execution_count": null,
   "id": "29f3d417",
   "metadata": {},
   "outputs": [],
   "source": []
  },
  {
   "cell_type": "code",
   "execution_count": null,
   "id": "e0d9540e",
   "metadata": {},
   "outputs": [],
   "source": []
  },
  {
   "cell_type": "code",
   "execution_count": null,
   "id": "1070d8ab",
   "metadata": {},
   "outputs": [],
   "source": []
  }
 ],
 "metadata": {
  "kernelspec": {
   "display_name": "base",
   "language": "python",
   "name": "python3"
  },
  "language_info": {
   "codemirror_mode": {
    "name": "ipython",
    "version": 3
   },
   "file_extension": ".py",
   "mimetype": "text/x-python",
   "name": "python",
   "nbconvert_exporter": "python",
   "pygments_lexer": "ipython3",
   "version": "3.12.4"
  }
 },
 "nbformat": 4,
 "nbformat_minor": 5
}
