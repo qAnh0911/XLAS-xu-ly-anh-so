{
 "cells": [
  {
   "cell_type": "code",
   "execution_count": 1,
   "metadata": {},
   "outputs": [],
   "source": [
    "# Gọi các thư viện \n",
    "#mở, tạo, xử lý, và lưu trữ ảnh - các phép toán trên ảnh, như cân bằng lược đồ xám, đảo ngược màu sắc, cắt xén\n",
    "from PIL import Image, ImageOps\n",
    "#tạo các biểu đồ và đồ thị.\n",
    "import matplotlib.pyplot as plt\n",
    "#cung cấp các widget tương tác để sử dụng trong Jupyter Notebooks, giúp bạn tạo giao diện \n",
    "from ipywidgets import interact, widgets\n",
    "#cung cấp các phương pháp để hiển thị các đối tượng (như ảnh, video, HTML) \n",
    "from IPython.display import display\n",
    "import io"
   ]
  }
 ],
 "metadata": {
  "kernelspec": {
   "display_name": "base",
   "language": "python",
   "name": "python3"
  },
  "language_info": {
   "codemirror_mode": {
    "name": "ipython",
    "version": 3
   },
   "file_extension": ".py",
   "mimetype": "text/x-python",
   "name": "python",
   "nbconvert_exporter": "python",
   "pygments_lexer": "ipython3",
   "version": "3.12.4"
  }
 },
 "nbformat": 4,
 "nbformat_minor": 2
}
